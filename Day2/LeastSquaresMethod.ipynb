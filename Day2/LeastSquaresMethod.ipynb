{
 "cells": [
  {
   "cell_type": "markdown",
   "id": "47916ab9-13be-4dde-b62f-dcac95c3a81a",
   "metadata": {},
   "source": [
    "## Linear Regression Analysis using the Least Squares Method"
   ]
  },
  {
   "cell_type": "markdown",
   "id": "24159575-af50-414e-bcc1-505ef3a47e11",
   "metadata": {},
   "source": [
    "The discrepancy for each data data is $|\\delta_i|$, and in the least squares method, this sum of squares is the value to be minimized (=loss).\n",
    "$$\n",
    "\\begin{aligned}\n",
    "loss &= \\sum_i\\delta_i^2 \\\\\n",
    "&= \\sum_i(z_i - ax_i - by_i - c)^2 \\\\\n",
    "\\end{aligned}\n",
    "$$\n",
    "\n",
    "The necessary condition for loss minimization is that the value differentiated by each of a, b, and c becomes 0.\n",
    "$$\n",
    "\\begin{aligned}\n",
    "\\cfrac{\\sigma \\sum_i\\delta_i^2}{\\sigma a} &= -2\\sum_i(z_i - ax_i - by_i - c) &= 0 \\\\\n",
    "\\cfrac{\\sigma \\sum_i\\delta_i^2}{\\sigma b} &= -2\\sum_i(z_i - ax_i - by_i - c)x_i &= 0 \\\\\n",
    "\\cfrac{\\sigma \\sum_i\\delta_i^2}{\\sigma c} &= -2\\sum_i(z_i - ax_i - by_i - c)y_i &= 0 \\\\\n",
    "\\end{aligned}\n",
    "$$\n",
    "\n",
    "By Oganizing them, we get the following formulas(normal equation).\n",
    "$$\n",
    "\\begin{aligned}\n",
    "\\sum_i{z_i} &= a\\sum_i{x_i} + b\\sum_i{y_i} + c \\\\\n",
    "\\sum_i{x_iz_i} &= a\\sum_i{x_i^2} + b\\sum_i{x_iy_i} + c\\sum_i{x_i} \\\\\n",
    "\\sum_i{y_iz_i} &=  + a\\sum{x_iy_i} + b\\sum_i{x_iy_i^2} + c\\sum_i{y_i} \\\\\n",
    "\\end{aligned}\n",
    "$$\n",
    "\n",
    "Assuming that $\\bar{x} = \\cfrac{1}{n}\\sum_i{x_i}$, $\\bar{y} = \\cfrac{1}{n}\\sum_i{y_i}$ and $\\bar{z} = \\cfrac{1}{n}\\sum_i{z_i}$ and deviding first formula by 10 (=n(M)),\n",
    "$$\n",
    "\\begin{aligned}\n",
    "\\bar{z} &= a\\bar{x} + b\\bar{y} + c \\\\\n",
    "c &= \\bar{z} - a\\bar{x} - b\\bar{y}\n",
    "\\end{aligned}\n",
    "$$\n",
    "\n",
    "Substitute it to second and third formula,\n",
    "$$\n",
    "\\def\\SxHy{\\sum_i\\left(x_i-\\bar{x}\\right)^2}\n",
    "\\def\\Sxy{\\sum_i\\left(x_i-\\bar{x}\\right)\\left(y_i-\\bar{y}\\right)}\n",
    "\\def\\SyH{\\sum_i\\left(y_i-\\bar{y}\\right)^2}\n",
    "\\def\\Sxz{\\sum_i\\left(x_i-\\bar{x}\\right)\\left(z_i-\\bar{z}\\right)}\n",
    "\\def\\SzH{\\sum_i\\left(z_i-\\bar{z}\\right)^2}\n",
    "\\def\\Syz{\\sum_i\\left(y_i-\\bar{y}\\right)\\left(z_i-\\bar{z}\\right)}\n",
    "$$\n",
    "\n",
    "$$\n",
    "\\begin{aligned}\n",
    "& a=\\cfrac{\\SyH \\Sxz-\\Sxy \\Syz}{\\SxHy \\SyH-\\Sxy^2} \\\\\n",
    "& b=\\cfrac{\\SxHy \\Syz-\\Sxy \\Sxz}{\\SxHy \\SyH-\\Sxy^2}\n",
    "\\end{aligned}\n",
    "$$\n",
    "\n"
   ]
  },
  {
   "cell_type": "markdown",
   "id": "b1a3ddda-71a8-4f1b-8b69-7810a4b10131",
   "metadata": {},
   "source": [
    "TODO: imporement the code"
   ]
  },
  {
   "cell_type": "markdown",
   "id": "ab59a2a9-d245-4046-81e3-329ce85eb097",
   "metadata": {},
   "source": [
    "TODO: add description about　derivation the normal equation by matrix"
   ]
  },
  {
   "cell_type": "markdown",
   "id": "59053a05-87bf-4ae4-9b9f-ff4699762cd2",
   "metadata": {},
   "source": [
    "参照:\n",
    "http://www2.toyo.ac.jp/~mihira/keizaitoukei2014/ols1.pdf\n",
    "\n",
    "http://fs1.law.keio.ac.jp/~aso/ecnm/pp/reg2.pdf"
   ]
  },
  {
   "cell_type": "code",
   "execution_count": null,
   "id": "5de89454-5369-4343-ab62-55e92d58abe0",
   "metadata": {},
   "outputs": [],
   "source": []
  }
 ],
 "metadata": {
  "kernelspec": {
   "display_name": "Haskell",
   "language": "haskell",
   "name": "haskell"
  },
  "language_info": {
   "codemirror_mode": "ihaskell",
   "file_extension": ".hs",
   "mimetype": "text/x-haskell",
   "name": "haskell",
   "pygments_lexer": "Haskell",
   "version": "9.2.5"
  }
 },
 "nbformat": 4,
 "nbformat_minor": 5
}
