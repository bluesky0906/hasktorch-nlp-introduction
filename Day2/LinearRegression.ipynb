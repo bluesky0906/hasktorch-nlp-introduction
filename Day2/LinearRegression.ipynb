{
 "cells": [
  {
   "cell_type": "markdown",
   "id": "8b554fae-c271-4895-92e7-dccd43cd2ffa",
   "metadata": {},
   "source": [
    "## 1. What is Linear Regression?"
   ]
  },
  {
   "cell_type": "markdown",
   "id": "5a8cffbd-b096-448f-94ed-beea3756a10b",
   "metadata": {},
   "source": [
    "Let's consider the revenue estimation for a supermarket in front of a station.\n",
    "\n",
    "The table below shows revenue for 10 months and the items that affect it[<sup>1</sup>](#id_01):\n",
    "- The number of passengers (because there is a supermarket in front of the station) \n",
    "- The amount of goods.\n",
    "\n",
    "| month | 1 | 2 | 3 | 4 | 5 | 6 | 7 | 8 | 9 | 10 |\n",
    "| --- | --- | --- | --- | --- | --- | --- | --- | --- | --- | --- |\n",
    "| Revenue | 123 | 290 | 230 | 261 | 140 | 173 | 133 | 179 | 210 | 181 |\n",
    "| Passengers | 9.3K | 23K | 25K | 26K | 11.9K | 18.3K | 15.1K | 19.2K | 26.3K | 18.5K |\n",
    "| Goods | 150 | 311 | 182 | 245 | 152 | 162 | 99 | 184 | 115 | 105 |\n",
    "\n",
    "<!-- In order to predict it with machine learning, we need past revenue and past data items that can affect it. For example, in this case, the passenger of the station and Amount of goods is considered  -->\n",
    "\n",
    "<!-- With this data, we can see the relationship between revenue, passengers, and products for 10 months. In other words, we can obtain expression for them. -->\n",
    "\n",
    "\n",
    "In order to estimate revenue based on this data, we need to express those relationships using approximate formula. <br>\n",
    "In this case, revenue seems to be proportional to passengers and goods, so we'll analyze assuming that there is a linear relationship between them, which is called **Linear Regression**.[<sup>2</sup>](#id_02)\n",
    "\n",
    "To define an approximate expression, suppose that a set of month is $M=\\{1,\\dots,10\\}$, the number of passenger, the amount of goods and revenue are $(x_i)_{i\\in M},(y_i)_{i\\in M},(z_i)_{i\\in M}$.\n",
    "i.e. $(x_i)_{i\\in M}=(9.3,23,\\dots,18.5)$, $(y_i)_{i\\in M}=(150,311,\\dots,105)$, $(z_i)_{i\\in M}=(123,290,\\dots,181)$\n",
    "\n",
    "In linear regression, it is assumed that there is a [linear mapping](https://www.ucl.ac.uk/~ucahmto/0005_2021/Ch4.S14.html) expressed by \n",
    "$z = a x + b y + c$\n",
    "and each $z_i$ will be approximated by the value $ax_i+by_i+c$.\n",
    "\n",
    "Now we have a formula that estimates revenue given the number of passengers and goods for a given month. However, the parameters a, b, and c still remain unknown."
   ]
  },
  {
   "cell_type": "markdown",
   "id": "cd5744c5-690b-4542-aa54-420fe2f1fe21",
   "metadata": {},
   "source": [
    "## 2. How can we get better parameters?"
   ]
  },
  {
   "cell_type": "markdown",
   "id": "7127976b-c9c0-43f4-959f-1a7cded0a055",
   "metadata": {},
   "source": [
    "To estimate revenue more accurately, we need to obtain the parameters a, b, and c that best approximate the data. In other words, the parameters minimize the discrepancy between the actual data and the output of the equation. \n",
    "\n",
    "There are multiple solution methods, but here we will analyze using machine learning."
   ]
  },
  {
   "cell_type": "markdown",
   "id": "f1baa559-01f6-4827-b345-1d2a6c7fcc2c",
   "metadata": {},
   "source": [
    "TODO:  add graph like http://www2.toyo.ac.jp/~mihira/keizaitoukei2014/ols1.pdf"
   ]
  },
  {
   "cell_type": "markdown",
   "id": "7c64c0d5-9d4d-4e4d-aa2a-eee837c88ad5",
   "metadata": {},
   "source": [
    "The discrepancy of each data data is $|\\delta i|$, and we consider the sum of squares divided by the number of data (i.e. the number of month $= n(M)$) as the function to be minimized.\n",
    "\n",
    "The function of sum of squares divided by the number of data is called **mean squared error** and is often used in regression analysis. The function to be minimized is called *Loss Function　($=\\mathcal{L}$).\n",
    "\n",
    "$$\n",
    "\\begin{aligned}\n",
    "\\mathcal{L} &= \\cfrac{1}{n(M)}\\sum_i\\delta_i^2 \\\\\n",
    "            &= \\cfrac{1}{n(M)}\\sum_i(z_i - ax_i - by_i - c)^2 \\\\\n",
    "\\end{aligned}\n",
    "$$\n",
    "\n",
    "In order to minimize $\\mathcal{L}$, we partially differentiate $\\mathcal{L}$ by the parameters and find the value that points to the lowest point (minimum value). This value is called **Gradient** ($=\\nabla \\mathcal{L} $).\n",
    "$$\n",
    "\\nabla \\mathcal{L} = \\left (\\cfrac{\\partial \\mathcal{L}}{\\partial a}, \\cfrac{\\partial \\mathcal{L}}{\\partial b}, \\cfrac{\\partial \\mathcal{L}}{\\partial c} \\right)\n",
    "$$\n",
    "\n",
    "You might think that it is a good idea to solve actual value to solve the equations. This is fine for linear regression, however for many real-world problems, the parameter space is so vast that finding the minimum point is difficult.\n",
    "\n",
    "Therefore, machine learning uses optimization algorithm　that efficiently search for the minimum value.[<sup>3</sup>](#id_03) Here we use the simplest one: **Gradient Descent**.<br>\n",
    "This algorithm varies the parameters along the gradient by a certain distance. Then, repeat the process of finding the gradient and changing the parameters at the destination.\n",
    "\n",
    "\n",
    "\n",
    "<!-- Suppose that $\\vec{p} = (a, b, c)$ and $\\vec{v_i} = (x_i, y_i)　$ to convert to vector notation,\n",
    "$$\n",
    "\\begin{aligned}\n",
    "\\mathcal{L} &= \\cfrac{1}{n(M)}\\sum_i(z_i - \\vec{p}\\cdot\\vec{v_i})^2 \\\\\n",
    "            &= \\cfrac{1}{n(M)}\\sum_i(\\vec{p}\\cdot\\vec{v_i} - z_i)^2 \n",
    "\\end{aligned}\n",
    "$$\n",
    " -->"
   ]
  },
  {
   "cell_type": "markdown",
   "id": "0a9b367c-c9c9-4bdb-b86b-83d8ce012e6a",
   "metadata": {},
   "source": [
    "1. <span id=\"id_01\"> https://www.statweb.jp/method/kaiki-bunseki/senkeikaiki-jyu-case </span>\n",
    "2. <span id=\"id_02\">The method differs depending on the relationship assumed. (For more variation, see non-regression analysis](https://en.wikipedia.org/wiki/Nonlinear_regression))</span>\n",
    "3. <span id=\"id_03\">Of course, using an optimization algorithm does not always guarantee that we will actually get the minimum value. When a function is complex, it may fall into a local minimum. Various [optimization algorithm](https://d2l.ai/chapter_optimization/) have been developed to solve this problem.</span>"
   ]
  },
  {
   "cell_type": "code",
   "execution_count": null,
   "id": "05b5155b-c2fb-4a5c-8290-aa96df942b10",
   "metadata": {},
   "outputs": [],
   "source": []
  },
  {
   "cell_type": "markdown",
   "id": "ef2e07b4-912e-4f27-8be4-81eb69b43340",
   "metadata": {},
   "source": [
    "参照\n",
    "http://www2.toyo.ac.jp/~mihira/keizaitoukei2014/ols1.pdf\n",
    "http://fs1.law.keio.ac.jp/~aso/ecnm/pp/reg2.pdf"
   ]
  }
 ],
 "metadata": {
  "kernelspec": {
   "display_name": "Haskell",
   "language": "haskell",
   "name": "haskell"
  },
  "language_info": {
   "codemirror_mode": "ihaskell",
   "file_extension": ".hs",
   "mimetype": "text/x-haskell",
   "name": "haskell",
   "pygments_lexer": "Haskell",
   "version": "9.2.5"
  }
 },
 "nbformat": 4,
 "nbformat_minor": 5
}
